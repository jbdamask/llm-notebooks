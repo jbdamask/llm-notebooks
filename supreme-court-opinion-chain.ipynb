{
 "cells": [
  {
   "cell_type": "code",
   "execution_count": 53,
   "id": "7a3cba5b-8810-4ff3-a3b7-1940e694a9ac",
   "metadata": {},
   "outputs": [],
   "source": [
    "import os\n",
    "from dotenv import load_dotenv, find_dotenv\n",
    "_ = load_dotenv(find_dotenv()) # read local .env file\\n\",\n",
    "OPENAI_API_KEY = os.getenv('OPENAI_API_KEY')"
   ]
  },
  {
   "cell_type": "code",
   "execution_count": 54,
   "id": "bb331838-d2e7-4c31-a997-7f6022f58436",
   "metadata": {},
   "outputs": [],
   "source": [
    "from langchain.llms import OpenAI\n",
    "from langchain.chat_models import ChatOpenAI\n",
    "from langchain.chains import LLMChain\n",
    "from langchain.prompts import PromptTemplate"
   ]
  },
  {
   "cell_type": "code",
   "execution_count": 55,
   "id": "f13f6741-5f19-4125-9f78-86e1b7880d88",
   "metadata": {},
   "outputs": [],
   "source": [
    "justice_dict = {}\n",
    "justices = [\"John G. Roberts, Jr.\", \"Clarence Thomas\", \"Samuel A. Alito, Jr.\", \"Sonia Sotomayor\",\n",
    "            \"Elena Kagan\", \"Neil M. Gorsuch\", \"Brett M. Kavanaugh\", \"Amy Coney Barrett\", \"Ketanji Brown Jackson\"]"
   ]
  },
  {
   "cell_type": "code",
   "execution_count": 56,
   "id": "1a8e2488-ac2d-418f-a18c-bf17511ff535",
   "metadata": {},
   "outputs": [],
   "source": [
    "# This is an LLMChain to define the justice\n",
    "# llm = OpenAI(temperature=.8)\n",
    "llm=ChatOpenAI(model_name = \"gpt-4\", temperature=0)\n",
    "synopsis_template = \"\"\"You are Supreme Court Justice {name},. \\n\n",
    "When presented with a legal question, you will respond with a legal opinion based on your interpretation of the law as {name} would.\n",
    "\n",
    "Question: {question}\n",
    "Supreme Court Justice: This is my legal opinion on the above question:\"\"\"\n",
    "synopsis_prompt_template = PromptTemplate(input_variables=[\"name\", \"question\"], template=synopsis_template)\n",
    "synopsis_chain = LLMChain(llm=llm, prompt=synopsis_prompt_template, output_key=\"opinion\")"
   ]
  },
  {
   "cell_type": "code",
   "execution_count": 57,
   "id": "bd722641-8ba7-4abd-bad3-0378a261ed5c",
   "metadata": {},
   "outputs": [],
   "source": [
    "# This is an LLMChain to characterize the opinion \n",
    "llm = OpenAI(temperature=.2)\n",
    "template = \"\"\"You accept take a legal question and legal opinion and interpret the opinion as being 'In Favor', 'Against', or 'Undecided'.\n",
    "\n",
    "Question: {question}\n",
    "Legal Opinion: {opinion}\n",
    "Interpretation of the above opinion:\"\"\"\n",
    "\n",
    "prompt_template = PromptTemplate(input_variables=[\"question\", \"opinion\"], template=template)\n",
    "review_chain = LLMChain(llm=llm, prompt=prompt_template, output_key=\"interpretation\")"
   ]
  },
  {
   "cell_type": "code",
   "execution_count": 58,
   "id": "dd9aeba6-7329-4b0e-a0e9-4549623cfe92",
   "metadata": {},
   "outputs": [],
   "source": [
    "# This is the overall chain where we run these two chains in sequence.\n",
    "from langchain.chains import SequentialChain\n",
    "overall_chain = SequentialChain(\n",
    "    chains=[synopsis_chain, review_chain], \n",
    "    input_variables=[\"name\", \"question\"],\n",
    "    # Here we return multiple variables\n",
    "    output_variables=[\"opinion\", \"interpretation\"],\n",
    "    verbose=False)"
   ]
  },
  {
   "cell_type": "code",
   "execution_count": 59,
   "id": "412fd5c8-2a15-4c3d-aafb-701b94383d21",
   "metadata": {},
   "outputs": [],
   "source": [
    "def encode_output(output):\n",
    "    mapping = {\"In Favor\": 1, \"Against\": -1, \"Undecided\": 0}\n",
    "    return mapping.get(output, \"Invalid output\")"
   ]
  },
  {
   "cell_type": "code",
   "execution_count": 60,
   "id": "2622afec-f85c-4bbd-864d-a0f6fe205f87",
   "metadata": {},
   "outputs": [],
   "source": [
    "# def make_the_call(justice, iterations):\n",
    "#     rulings = []\n",
    "#     for i in range(1, iterations):\n",
    "#         ruling = overall_chain({\"name\":justice, \"question\": \"Does the US constitution support the notion that there is a constitutional right to abortion?\"})\n",
    "#         rulings.append(encode_output(ruling['interpretation'].strip()))\n",
    "#     print(rulings)\n",
    "#     return [justice, rulings]"
   ]
  },
  {
   "cell_type": "code",
   "execution_count": 61,
   "id": "ad27a468",
   "metadata": {},
   "outputs": [],
   "source": [
    "import threading\n",
    "\n",
    "# Initialize a lock\n",
    "lock = threading.Lock()\n",
    "\n",
    "def make_the_call(justice, iterations):\n",
    "    rulings = []\n",
    "    for i in range(iterations):\n",
    "        ruling = overall_chain({\"name\":justice, \"question\": \"Does the US constitution support the notion that there is a constitutional right to abortion?\"})\n",
    "        rulings.append(encode_output(ruling['interpretation'].strip()))\n",
    "    return [justice, rulings]"
   ]
  },
  {
   "cell_type": "code",
   "execution_count": 62,
   "id": "ef7a5108",
   "metadata": {},
   "outputs": [],
   "source": [
    "def worker(justice, counts):\n",
    "    rulings = make_the_call(justice, 6)\n",
    "    with lock:  # Ensure thread-safe update of counts\n",
    "        counts[justice] = {ruling: rulings[1].count(ruling) for ruling in [0, 1, -1]}  # Count from rulings[1]"
   ]
  },
  {
   "cell_type": "code",
   "execution_count": 63,
   "id": "221a6d9f",
   "metadata": {},
   "outputs": [
    {
     "name": "stdout",
     "output_type": "stream",
     "text": [
      "starting thread: John G. Roberts, Jr.\n",
      "starting thread: Clarence Thomas\n",
      "starting thread: Samuel A. Alito, Jr.\n",
      "starting thread: Sonia Sotomayor\n",
      "starting thread: Elena Kagan\n",
      "starting thread: Neil M. Gorsuch\n",
      "starting thread: Brett M. Kavanaugh\n",
      "starting thread: Amy Coney Barrett\n",
      "starting thread: Ketanji Brown Jackson\n"
     ]
    }
   ],
   "source": [
    "counts = {}\n",
    "threads = []\n",
    "\n",
    "for justice in justices:\n",
    "    print(f\"starting thread: {justice}\")    \n",
    "    thread = threading.Thread(target=worker, args=(justice, counts))\n",
    "    thread.start()\n",
    "    threads.append(thread)\n",
    "\n",
    "# Wait for all threads to complete\n",
    "for thread in threads:\n",
    "    thread.join()"
   ]
  },
  {
   "cell_type": "code",
   "execution_count": 64,
   "id": "8e7b004c-7c6b-462c-907a-4219dedfdbed",
   "metadata": {},
   "outputs": [],
   "source": [
    "# # Initialize a Counter for each category\n",
    "# counts = {0: [], 1: [], -1: []}\n",
    "\n",
    "# # Get the counts for each justice\n",
    "# for justice in justices:\n",
    "#     rulings = make_the_call(justice, 12)\n",
    "#     for ruling in [0, 1, -1]:\n",
    "#         counts[ruling].append(rulings[1].count(ruling))  # Count from rulings[1]"
   ]
  },
  {
   "cell_type": "code",
   "execution_count": 65,
   "id": "f492fa59-83ab-43b9-98a0-69f83e5e9aa1",
   "metadata": {},
   "outputs": [
    {
     "data": {
      "image/png": "[encoded data removed]",
      "text/plain": [
       "<Figure size 640x480 with 1 Axes>"
      ]
     },
     "metadata": {},
     "output_type": "display_data"
    }
   ],
   "source": [
    "import matplotlib.pyplot as plt\n",
    "import numpy as np\n",
    "\n",
    "# Set up the plot\n",
    "x = np.arange(len(justices))\n",
    "width = 0.2\n",
    "\n",
    "fig, ax = plt.subplots()\n",
    "\n",
    "# Adjust the data format for plotting\n",
    "undecided = [counts[justice][0] for justice in justices]\n",
    "in_favor = [counts[justice][1] for justice in justices]\n",
    "against = [counts[justice][-1] for justice in justices]\n",
    "\n",
    "rects1 = ax.bar(x - width, undecided, width, label='Undecided')\n",
    "rects2 = ax.bar(x, in_favor, width, label='In Favor')\n",
    "rects3 = ax.bar(x + width, against, width, label='Against')\n",
    "\n",
    "# Add some text for labels, title and custom x-axis tick labels, etc.\n",
    "ax.set_xlabel('Justice')\n",
    "ax.set_ylabel('Counts')\n",
    "ax.set_title('Rulings by Justice')\n",
    "ax.set_xticks(x)\n",
    "ax.set_xticklabels(justices, rotation=90)\n",
    "ax.legend()\n",
    "\n",
    "fig.tight_layout()\n",
    "plt.show()"
   ]
  },
  {
   "cell_type": "code",
   "execution_count": null,
   "id": "429cda44",
   "metadata": {},
   "outputs": [],
   "source": []
  }
 ],
 "metadata": {
  "kernelspec": {
   "display_name": "local-venv",
   "language": "python",
   "name": "local-venv"
  },
  "language_info": {
   "codemirror_mode": {
    "name": "ipython",
    "version": 3
   },
   "file_extension": ".py",
   "mimetype": "text/x-python",
   "name": "python",
   "nbconvert_exporter": "python",
   "pygments_lexer": "ipython3",
   "version": "3.10.9"
  }
 },
 "nbformat": 4,
 "nbformat_minor": 5
}
