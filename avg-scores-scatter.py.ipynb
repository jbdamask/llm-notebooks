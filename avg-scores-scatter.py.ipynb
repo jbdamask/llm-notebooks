{
 "cells": [
  {
   "cell_type": "code",
   "execution_count": 19,
   "id": "e8a49d7b",
   "metadata": {},
   "outputs": [
    {
     "data": {
      "text/html": [
       "<div>                            <div id=\"5cfbe70e-8488-4c6a-acb3-0ae68b45532b\" class=\"plotly-graph-div\" style=\"height:525px; width:100%;\"></div>            <script type=\"text/javascript\">                require([\"plotly\"], function(Plotly) {                    window.PLOTLYENV=window.PLOTLYENV || {};                                    if (document.getElementById(\"5cfbe70e-8488-4c6a-acb3-0ae68b45532b\")) {                    Plotly.newPlot(                        \"5cfbe70e-8488-4c6a-acb3-0ae68b45532b\",                        [{\"customdata\":[[\"Amy Coney Barrett\",0.05],[\"Amy Coney Barrett\",0.45],[\"Amy Coney Barrett\",0.75],[\"Amy Coney Barrett\",1.05]],\"hovertemplate\":\"Justice=%{customdata[0]}<br>gpt-3.5-turbo=%{x}<br>gpt-4=%{y}<br>temp=%{customdata[1]}<extra></extra>\",\"legendgroup\":\"Amy Coney Barrett\",\"marker\":{\"color\":\"#636efa\",\"size\":[0.05,0.45,0.75,1.05],\"sizemode\":\"area\",\"sizeref\":0.002625,\"symbol\":\"circle\"},\"mode\":\"markers\",\"name\":\"Amy Coney Barrett\",\"orientation\":\"v\",\"showlegend\":true,\"x\":[0.18127009360948956,-0.21519023648596514,0.05731933448636011,0.3230301229874252],\"xaxis\":\"x\",\"y\":[0.14786056424099803,-0.25282588179353527,0.01155474453898253,-0.06441063140514883],\"yaxis\":\"y\",\"type\":\"scatter\"},{\"customdata\":[[\"Brett M. Kavanaugh\",0.05],[\"Brett M. Kavanaugh\",0.45],[\"Brett M. Kavanaugh\",0.75],[\"Brett M. Kavanaugh\",1.05]],\"hovertemplate\":\"Justice=%{customdata[0]}<br>gpt-3.5-turbo=%{x}<br>gpt-4=%{y}<br>temp=%{customdata[1]}<extra></extra>\",\"legendgroup\":\"Brett M. Kavanaugh\",\"marker\":{\"color\":\"#EF553B\",\"size\":[0.05,0.45,0.75,1.05],\"sizemode\":\"area\",\"sizeref\":0.002625,\"symbol\":\"circle\"},\"mode\":\"markers\",\"name\":\"Brett M. Kavanaugh\",\"orientation\":\"v\",\"showlegend\":true,\"x\":[0.17189251096235894,0.9096847041364711,0.8430812781859075,0.5609117605217153],\"xaxis\":\"x\",\"y\":[0.45350768289249804,0.24385486776329474,-0.08742975976217943,0.054140159897014865],\"yaxis\":\"y\",\"type\":\"scatter\"},{\"customdata\":[[\"Clarence Thomas\",0.05],[\"Clarence Thomas\",0.45],[\"Clarence Thomas\",0.75],[\"Clarence Thomas\",1.05]],\"hovertemplate\":\"Justice=%{customdata[0]}<br>gpt-3.5-turbo=%{x}<br>gpt-4=%{y}<br>temp=%{customdata[1]}<extra></extra>\",\"legendgroup\":\"Clarence Thomas\",\"marker\":{\"color\":\"#00cc96\",\"size\":[0.05,0.45,0.75,1.05],\"sizemode\":\"area\",\"sizeref\":0.002625,\"symbol\":\"circle\"},\"mode\":\"markers\",\"name\":\"Clarence Thomas\",\"orientation\":\"v\",\"showlegend\":true,\"x\":[-0.9367987628516918,-1.1103856819618771,-0.8777414605085451,-0.8694725773604001],\"xaxis\":\"x\",\"y\":[-0.8729661075617062,-0.9938781879793205,-1.056867254015781,-1.0660031015179596],\"yaxis\":\"y\",\"type\":\"scatter\"},{\"customdata\":[[\"Elena Kagan\",0.05],[\"Elena Kagan\",0.45],[\"Elena Kagan\",0.75],[\"Elena Kagan\",1.05]],\"hovertemplate\":\"Justice=%{customdata[0]}<br>gpt-3.5-turbo=%{x}<br>gpt-4=%{y}<br>temp=%{customdata[1]}<extra></extra>\",\"legendgroup\":\"Elena Kagan\",\"marker\":{\"color\":\"#ab63fa\",\"size\":[0.05,0.45,0.75,1.05],\"sizemode\":\"area\",\"sizeref\":0.002625,\"symbol\":\"circle\"},\"mode\":\"markers\",\"name\":\"Elena Kagan\",\"orientation\":\"v\",\"showlegend\":true,\"x\":[1.0352966632144005,0.9653141925905662,0.831834959307861,1.0852917541888814],\"xaxis\":\"x\",\"y\":[0.9583901955497875,1.0166013147251058,0.7316088026357156,0.7372047588039911],\"yaxis\":\"y\",\"type\":\"scatter\"},{\"customdata\":[[\"John G. Roberts, Jr.\",0.05],[\"John G. Roberts, Jr.\",0.45],[\"John G. Roberts, Jr.\",0.75],[\"John G. Roberts, Jr.\",1.05]],\"hovertemplate\":\"Justice=%{customdata[0]}<br>gpt-3.5-turbo=%{x}<br>gpt-4=%{y}<br>temp=%{customdata[1]}<extra></extra>\",\"legendgroup\":\"John G. Roberts, Jr.\",\"marker\":{\"color\":\"#FFA15A\",\"size\":[0.05,0.45,0.75,1.05],\"sizemode\":\"area\",\"sizeref\":0.002625,\"symbol\":\"circle\"},\"mode\":\"markers\",\"name\":\"John G. Roberts, Jr.\",\"orientation\":\"v\",\"showlegend\":true,\"x\":[0.8533452377246503,1.0747551907360453,0.843827076411751,0.8955497051980383],\"xaxis\":\"x\",\"y\":[0.4888780954584685,0.7679824230169444,0.07542256342885723,0.06511247421826227],\"yaxis\":\"y\",\"type\":\"scatter\"},{\"customdata\":[[\"Ketanji Brown Jackson\",0.05],[\"Ketanji Brown Jackson\",0.45],[\"Ketanji Brown Jackson\",0.75],[\"Ketanji Brown Jackson\",1.05]],\"hovertemplate\":\"Justice=%{customdata[0]}<br>gpt-3.5-turbo=%{x}<br>gpt-4=%{y}<br>temp=%{customdata[1]}<extra></extra>\",\"legendgroup\":\"Ketanji Brown Jackson\",\"marker\":{\"color\":\"#19d3f3\",\"size\":[0.05,0.45,0.75,1.05],\"sizemode\":\"area\",\"sizeref\":0.002625,\"symbol\":\"circle\"},\"mode\":\"markers\",\"name\":\"Ketanji Brown Jackson\",\"orientation\":\"v\",\"showlegend\":true,\"x\":[1.0318536900762454,0.7480306273482273,0.6868508008879413,0.7861592196627818],\"xaxis\":\"x\",\"y\":[0.7991456053299801,0.7540124065289139,0.5880068657552224,0.857298658698717],\"yaxis\":\"y\",\"type\":\"scatter\"},{\"customdata\":[[\"Neil M. Gorsuch\",0.05],[\"Neil M. Gorsuch\",0.45],[\"Neil M. Gorsuch\",0.75],[\"Neil M. Gorsuch\",1.05]],\"hovertemplate\":\"Justice=%{customdata[0]}<br>gpt-3.5-turbo=%{x}<br>gpt-4=%{y}<br>temp=%{customdata[1]}<extra></extra>\",\"legendgroup\":\"Neil M. Gorsuch\",\"marker\":{\"color\":\"#FF6692\",\"size\":[0.05,0.45,0.75,1.05],\"sizemode\":\"area\",\"sizeref\":0.002625,\"symbol\":\"circle\"},\"mode\":\"markers\",\"name\":\"Neil M. Gorsuch\",\"orientation\":\"v\",\"showlegend\":true,\"x\":[0.7792857501745162,0.6673491019314941,0.6365070926837142,0.32436566750832796],\"xaxis\":\"x\",\"y\":[0.2574638255965372,-0.32701379300365363,-0.2672286812176258,-0.1974488345280329],\"yaxis\":\"y\",\"type\":\"scatter\"},{\"customdata\":[[\"Samuel A. Alito, Jr.\",0.05],[\"Samuel A. Alito, Jr.\",0.45],[\"Samuel A. Alito, Jr.\",0.75],[\"Samuel A. Alito, Jr.\",1.05]],\"hovertemplate\":\"Justice=%{customdata[0]}<br>gpt-3.5-turbo=%{x}<br>gpt-4=%{y}<br>temp=%{customdata[1]}<extra></extra>\",\"legendgroup\":\"Samuel A. Alito, Jr.\",\"marker\":{\"color\":\"#B6E880\",\"size\":[0.05,0.45,0.75,1.05],\"sizemode\":\"area\",\"sizeref\":0.002625,\"symbol\":\"circle\"},\"mode\":\"markers\",\"name\":\"Samuel A. Alito, Jr.\",\"orientation\":\"v\",\"showlegend\":true,\"x\":[0.17685205231599677,0.9512277362283036,0.398000690801273,0.7465430133707645],\"xaxis\":\"x\",\"y\":[-0.3311066237794079,-0.8262746740451115,-0.14061052829879922,-0.42489325070234485],\"yaxis\":\"y\",\"type\":\"scatter\"},{\"customdata\":[[\"Sonia Sotomayor\",0.05],[\"Sonia Sotomayor\",0.45],[\"Sonia Sotomayor\",0.75],[\"Sonia Sotomayor\",1.05]],\"hovertemplate\":\"Justice=%{customdata[0]}<br>gpt-3.5-turbo=%{x}<br>gpt-4=%{y}<br>temp=%{customdata[1]}<extra></extra>\",\"legendgroup\":\"Sonia Sotomayor\",\"marker\":{\"color\":\"#FF97FF\",\"size\":[0.05,0.45,0.75,1.05],\"sizemode\":\"area\",\"sizeref\":0.002625,\"symbol\":\"circle\"},\"mode\":\"markers\",\"name\":\"Sonia Sotomayor\",\"orientation\":\"v\",\"showlegend\":true,\"x\":[0.960031415634057,0.8351360497885598,0.8494358683717541,1.0277307990845865],\"xaxis\":\"x\",\"y\":[1.0483723760608092,1.129281015968792,0.9602068917889732,0.9212673668101561],\"yaxis\":\"y\",\"type\":\"scatter\"}],                        {\"template\":{\"data\":{\"histogram2dcontour\":[{\"type\":\"histogram2dcontour\",\"colorbar\":{\"outlinewidth\":0,\"ticks\":\"\"},\"colorscale\":[[0.0,\"#0d0887\"],[0.1111111111111111,\"#46039f\"],[0.2222222222222222,\"#7201a8\"],[0.3333333333333333,\"#9c179e\"],[0.4444444444444444,\"#bd3786\"],[0.5555555555555556,\"#d8576b\"],[0.6666666666666666,\"#ed7953\"],[0.7777777777777778,\"#fb9f3a\"],[0.8888888888888888,\"#fdca26\"],[1.0,\"#f0f921\"]]}],\"choropleth\":[{\"type\":\"choropleth\",\"colorbar\":{\"outlinewidth\":0,\"ticks\":\"\"}}],\"histogram2d\":[{\"type\":\"histogram2d\",\"colorbar\":{\"outlinewidth\":0,\"ticks\":\"\"},\"colorscale\":[[0.0,\"#0d0887\"],[0.1111111111111111,\"#46039f\"],[0.2222222222222222,\"#7201a8\"],[0.3333333333333333,\"#9c179e\"],[0.4444444444444444,\"#bd3786\"],[0.5555555555555556,\"#d8576b\"],[0.6666666666666666,\"#ed7953\"],[0.7777777777777778,\"#fb9f3a\"],[0.8888888888888888,\"#fdca26\"],[1.0,\"#f0f921\"]]}],\"heatmap\":[{\"type\":\"heatmap\",\"colorbar\":{\"outlinewidth\":0,\"ticks\":\"\"},\"colorscale\":[[0.0,\"#0d0887\"],[0.1111111111111111,\"#46039f\"],[0.2222222222222222,\"#7201a8\"],[0.3333333333333333,\"#9c179e\"],[0.4444444444444444,\"#bd3786\"],[0.5555555555555556,\"#d8576b\"],[0.6666666666666666,\"#ed7953\"],[0.7777777777777778,\"#fb9f3a\"],[0.8888888888888888,\"#fdca26\"],[1.0,\"#f0f921\"]]}],\"heatmapgl\":[{\"type\":\"heatmapgl\",\"colorbar\":{\"outlinewidth\":0,\"ticks\":\"\"},\"colorscale\":[[0.0,\"#0d0887\"],[0.1111111111111111,\"#46039f\"],[0.2222222222222222,\"#7201a8\"],[0.3333333333333333,\"#9c179e\"],[0.4444444444444444,\"#bd3786\"],[0.5555555555555556,\"#d8576b\"],[0.6666666666666666,\"#ed7953\"],[0.7777777777777778,\"#fb9f3a\"],[0.8888888888888888,\"#fdca26\"],[1.0,\"#f0f921\"]]}],\"contourcarpet\":[{\"type\":\"contourcarpet\",\"colorbar\":{\"outlinewidth\":0,\"ticks\":\"\"}}],\"contour\":[{\"type\":\"contour\",\"colorbar\":{\"outlinewidth\":0,\"ticks\":\"\"},\"colorscale\":[[0.0,\"#0d0887\"],[0.1111111111111111,\"#46039f\"],[0.2222222222222222,\"#7201a8\"],[0.3333333333333333,\"#9c179e\"],[0.4444444444444444,\"#bd3786\"],[0.5555555555555556,\"#d8576b\"],[0.6666666666666666,\"#ed7953\"],[0.7777777777777778,\"#fb9f3a\"],[0.8888888888888888,\"#fdca26\"],[1.0,\"#f0f921\"]]}],\"surface\":[{\"type\":\"surface\",\"colorbar\":{\"outlinewidth\":0,\"ticks\":\"\"},\"colorscale\":[[0.0,\"#0d0887\"],[0.1111111111111111,\"#46039f\"],[0.2222222222222222,\"#7201a8\"],[0.3333333333333333,\"#9c179e\"],[0.4444444444444444,\"#bd3786\"],[0.5555555555555556,\"#d8576b\"],[0.6666666666666666,\"#ed7953\"],[0.7777777777777778,\"#fb9f3a\"],[0.8888888888888888,\"#fdca26\"],[1.0,\"#f0f921\"]]}],\"mesh3d\":[{\"type\":\"mesh3d\",\"colorbar\":{\"outlinewidth\":0,\"ticks\":\"\"}}],\"scatter\":[{\"fillpattern\":{\"fillmode\":\"overlay\",\"size\":10,\"solidity\":0.2},\"type\":\"scatter\"}],\"parcoords\":[{\"type\":\"parcoords\",\"line\":{\"colorbar\":{\"outlinewidth\":0,\"ticks\":\"\"}}}],\"scatterpolargl\":[{\"type\":\"scatterpolargl\",\"marker\":{\"colorbar\":{\"outlinewidth\":0,\"ticks\":\"\"}}}],\"bar\":[{\"error_x\":{\"color\":\"#2a3f5f\"},\"error_y\":{\"color\":\"#2a3f5f\"},\"marker\":{\"line\":{\"color\":\"#E5ECF6\",\"width\":0.5},\"pattern\":{\"fillmode\":\"overlay\",\"size\":10,\"solidity\":0.2}},\"type\":\"bar\"}],\"scattergeo\":[{\"type\":\"scattergeo\",\"marker\":{\"colorbar\":{\"outlinewidth\":0,\"ticks\":\"\"}}}],\"scatterpolar\":[{\"type\":\"scatterpolar\",\"marker\":{\"colorbar\":{\"outlinewidth\":0,\"ticks\":\"\"}}}],\"histogram\":[{\"marker\":{\"pattern\":{\"fillmode\":\"overlay\",\"size\":10,\"solidity\":0.2}},\"type\":\"histogram\"}],\"scattergl\":[{\"type\":\"scattergl\",\"marker\":{\"colorbar\":{\"outlinewidth\":0,\"ticks\":\"\"}}}],\"scatter3d\":[{\"type\":\"scatter3d\",\"line\":{\"colorbar\":{\"outlinewidth\":0,\"ticks\":\"\"}},\"marker\":{\"colorbar\":{\"outlinewidth\":0,\"ticks\":\"\"}}}],\"scattermapbox\":[{\"type\":\"scattermapbox\",\"marker\":{\"colorbar\":{\"outlinewidth\":0,\"ticks\":\"\"}}}],\"scatterternary\":[{\"type\":\"scatterternary\",\"marker\":{\"colorbar\":{\"outlinewidth\":0,\"ticks\":\"\"}}}],\"scattercarpet\":[{\"type\":\"scattercarpet\",\"marker\":{\"colorbar\":{\"outlinewidth\":0,\"ticks\":\"\"}}}],\"carpet\":[{\"aaxis\":{\"endlinecolor\":\"#2a3f5f\",\"gridcolor\":\"white\",\"linecolor\":\"white\",\"minorgridcolor\":\"white\",\"startlinecolor\":\"#2a3f5f\"},\"baxis\":{\"endlinecolor\":\"#2a3f5f\",\"gridcolor\":\"white\",\"linecolor\":\"white\",\"minorgridcolor\":\"white\",\"startlinecolor\":\"#2a3f5f\"},\"type\":\"carpet\"}],\"table\":[{\"cells\":{\"fill\":{\"color\":\"#EBF0F8\"},\"line\":{\"color\":\"white\"}},\"header\":{\"fill\":{\"color\":\"#C8D4E3\"},\"line\":{\"color\":\"white\"}},\"type\":\"table\"}],\"barpolar\":[{\"marker\":{\"line\":{\"color\":\"#E5ECF6\",\"width\":0.5},\"pattern\":{\"fillmode\":\"overlay\",\"size\":10,\"solidity\":0.2}},\"type\":\"barpolar\"}],\"pie\":[{\"automargin\":true,\"type\":\"pie\"}]},\"layout\":{\"autotypenumbers\":\"strict\",\"colorway\":[\"#636efa\",\"#EF553B\",\"#00cc96\",\"#ab63fa\",\"#FFA15A\",\"#19d3f3\",\"#FF6692\",\"#B6E880\",\"#FF97FF\",\"#FECB52\"],\"font\":{\"color\":\"#2a3f5f\"},\"hovermode\":\"closest\",\"hoverlabel\":{\"align\":\"left\"},\"paper_bgcolor\":\"white\",\"plot_bgcolor\":\"#E5ECF6\",\"polar\":{\"bgcolor\":\"#E5ECF6\",\"angularaxis\":{\"gridcolor\":\"white\",\"linecolor\":\"white\",\"ticks\":\"\"},\"radialaxis\":{\"gridcolor\":\"white\",\"linecolor\":\"white\",\"ticks\":\"\"}},\"ternary\":{\"bgcolor\":\"#E5ECF6\",\"aaxis\":{\"gridcolor\":\"white\",\"linecolor\":\"white\",\"ticks\":\"\"},\"baxis\":{\"gridcolor\":\"white\",\"linecolor\":\"white\",\"ticks\":\"\"},\"caxis\":{\"gridcolor\":\"white\",\"linecolor\":\"white\",\"ticks\":\"\"}},\"coloraxis\":{\"colorbar\":{\"outlinewidth\":0,\"ticks\":\"\"}},\"colorscale\":{\"sequential\":[[0.0,\"#0d0887\"],[0.1111111111111111,\"#46039f\"],[0.2222222222222222,\"#7201a8\"],[0.3333333333333333,\"#9c179e\"],[0.4444444444444444,\"#bd3786\"],[0.5555555555555556,\"#d8576b\"],[0.6666666666666666,\"#ed7953\"],[0.7777777777777778,\"#fb9f3a\"],[0.8888888888888888,\"#fdca26\"],[1.0,\"#f0f921\"]],\"sequentialminus\":[[0.0,\"#0d0887\"],[0.1111111111111111,\"#46039f\"],[0.2222222222222222,\"#7201a8\"],[0.3333333333333333,\"#9c179e\"],[0.4444444444444444,\"#bd3786\"],[0.5555555555555556,\"#d8576b\"],[0.6666666666666666,\"#ed7953\"],[0.7777777777777778,\"#fb9f3a\"],[0.8888888888888888,\"#fdca26\"],[1.0,\"#f0f921\"]],\"diverging\":[[0,\"#8e0152\"],[0.1,\"#c51b7d\"],[0.2,\"#de77ae\"],[0.3,\"#f1b6da\"],[0.4,\"#fde0ef\"],[0.5,\"#f7f7f7\"],[0.6,\"#e6f5d0\"],[0.7,\"#b8e186\"],[0.8,\"#7fbc41\"],[0.9,\"#4d9221\"],[1,\"#276419\"]]},\"xaxis\":{\"gridcolor\":\"white\",\"linecolor\":\"white\",\"ticks\":\"\",\"title\":{\"standoff\":15},\"zerolinecolor\":\"white\",\"automargin\":true,\"zerolinewidth\":2},\"yaxis\":{\"gridcolor\":\"white\",\"linecolor\":\"white\",\"ticks\":\"\",\"title\":{\"standoff\":15},\"zerolinecolor\":\"white\",\"automargin\":true,\"zerolinewidth\":2},\"scene\":{\"xaxis\":{\"backgroundcolor\":\"#E5ECF6\",\"gridcolor\":\"white\",\"linecolor\":\"white\",\"showbackground\":true,\"ticks\":\"\",\"zerolinecolor\":\"white\",\"gridwidth\":2},\"yaxis\":{\"backgroundcolor\":\"#E5ECF6\",\"gridcolor\":\"white\",\"linecolor\":\"white\",\"showbackground\":true,\"ticks\":\"\",\"zerolinecolor\":\"white\",\"gridwidth\":2},\"zaxis\":{\"backgroundcolor\":\"#E5ECF6\",\"gridcolor\":\"white\",\"linecolor\":\"white\",\"showbackground\":true,\"ticks\":\"\",\"zerolinecolor\":\"white\",\"gridwidth\":2}},\"shapedefaults\":{\"line\":{\"color\":\"#2a3f5f\"}},\"annotationdefaults\":{\"arrowcolor\":\"#2a3f5f\",\"arrowhead\":0,\"arrowwidth\":1},\"geo\":{\"bgcolor\":\"white\",\"landcolor\":\"#E5ECF6\",\"subunitcolor\":\"white\",\"showland\":true,\"showlakes\":true,\"lakecolor\":\"white\"},\"title\":{\"x\":0.05},\"mapbox\":{\"style\":\"light\"}}},\"xaxis\":{\"anchor\":\"y\",\"domain\":[0.0,1.0],\"title\":{\"text\":\"gpt-3.5-turbo\"},\"range\":[-1.25,1.25]},\"yaxis\":{\"anchor\":\"x\",\"domain\":[0.0,1.0],\"title\":{\"text\":\"gpt-4\"},\"range\":[-1.25,1.25]},\"legend\":{\"title\":{\"text\":\"Justice\"},\"tracegroupgap\":0,\"itemsizing\":\"constant\"},\"margin\":{\"t\":60},\"title\":{\"text\":\"GPT Supreme Court Justices on whether there is a constitutional right to abortion.<br>-1 = No; 0=Undecided; 1=Yes\"}},                        {\"responsive\": true}                    ).then(function(){\n",
       "                            \n",
       "var gd = document.getElementById('5cfbe70e-8488-4c6a-acb3-0ae68b45532b');\n",
       "var x = new MutationObserver(function (mutations, observer) {{\n",
       "        var display = window.getComputedStyle(gd).display;\n",
       "        if (!display || display === 'none') {{\n",
       "            console.log([gd, 'removed!']);\n",
       "            Plotly.purge(gd);\n",
       "            observer.disconnect();\n",
       "        }}\n",
       "}});\n",
       "\n",
       "// Listen for the removal of the full notebook cells\n",
       "var notebookContainer = gd.closest('#notebook-container');\n",
       "if (notebookContainer) {{\n",
       "    x.observe(notebookContainer, {childList: true});\n",
       "}}\n",
       "\n",
       "// Listen for the clearing of the current output cell\n",
       "var outputEl = gd.closest('.output');\n",
       "if (outputEl) {{\n",
       "    x.observe(outputEl, {childList: true});\n",
       "}}\n",
       "\n",
       "                        })                };                });            </script>        </div>"
      ]
     },
     "metadata": {},
     "output_type": "display_data"
    }
   ],
   "source": [
    "import pandas as pd\n",
    "import numpy as np\n",
    "import plotly.express as px\n",
    "\n",
    "# Load your data into a DataFrame\n",
    "df = pd.read_csv('all-scores-6-spins.csv')\n",
    "\n",
    "# Pivot the data so that each model is a separate column\n",
    "pivot_df = df.pivot_table(index=['Justice', 'temp'], columns='model', values='final').reset_index()\n",
    "\n",
    "# Add more jitter to the 'gpt-3.5-turbo' and 'gpt-4' columns\n",
    "stdev = 0.1  # Increase standard deviation for more jitter\n",
    "pivot_df['gpt-3.5-turbo'] += np.random.randn(len(pivot_df['gpt-3.5-turbo'])) * stdev\n",
    "pivot_df['gpt-4'] += np.random.randn(len(pivot_df['gpt-4'])) * stdev\n",
    "\n",
    "# Add a small constant to 'temp' values to ensure all points are visible\n",
    "pivot_df['temp'] += 0.05\n",
    "\n",
    "# Create an interactive scatter plot with point size based on 'temp'\n",
    "fig = px.scatter(pivot_df, x='gpt-3.5-turbo', y='gpt-4', color='Justice', size='temp', hover_data=['Justice', 'temp'])\n",
    "\n",
    "# Set the x and y limits\n",
    "fig.update_xaxes(range=[-1.25, 1.25])\n",
    "fig.update_yaxes(range=[-1.25, 1.25])\n",
    "\n",
    "# Add a title to the plot with a line break for better fit\n",
    "fig.update_layout(title_text=\"GPT Supreme Court Justices on whether there is a constitutional right to abortion.<br>-1 = No; 0=Undecided; 1=Yes\")\n",
    "\n",
    "# Show the plot\n",
    "fig.show()"
   ]
  }
 ],
 "metadata": {
  "kernelspec": {
   "display_name": "local-venv",
   "language": "python",
   "name": "local-venv"
  },
  "language_info": {
   "codemirror_mode": {
    "name": "ipython",
    "version": 3
   },
   "file_extension": ".py",
   "mimetype": "text/x-python",
   "name": "python",
   "nbconvert_exporter": "python",
   "pygments_lexer": "ipython3",
   "version": "3.10.9"
  }
 },
 "nbformat": 4,
 "nbformat_minor": 5
}
